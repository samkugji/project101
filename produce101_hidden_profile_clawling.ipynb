{
 "cells": [
  {
   "cell_type": "code",
   "execution_count": 1,
   "metadata": {
    "collapsed": true
   },
   "outputs": [],
   "source": [
    "#!/usr/bin/env/ python3\n",
    "#-*- coding: utf-8 -*-"
   ]
  },
  {
   "cell_type": "code",
   "execution_count": 2,
   "metadata": {
    "collapsed": false
   },
   "outputs": [],
   "source": [
    "\"\"\"Helper utilities and decorators.\"\"\"\n",
    "from __future__ import unicode_literals\n",
    "\n",
    "import requests\n",
    "import pandas as pd"
   ]
  },
  {
   "cell_type": "code",
   "execution_count": 3,
   "metadata": {
    "collapsed": false
   },
   "outputs": [],
   "source": [
    "def fetch_idol(idx):\n",
    "    \"\"\"Fetch data for a single idol.\"\"\"\n",
    "    \n",
    "    #post 와 get의 차이?\n",
    "    r = requests.post(url, data={'idx': idx})\n",
    "#     r = requests.get('https://www.produce101event.com/entry_info.php')\n",
    "#     r.raise_for_status()\n",
    "    idol_data = r.json()\n",
    "    if idol_data['result'] == 'success' and idol_data['name']:\n",
    "        return idol_data\n",
    "    else:\n",
    "        return None "
   ]
  },
  {
   "cell_type": "code",
   "execution_count": 4,
   "metadata": {
    "collapsed": false
   },
   "outputs": [],
   "source": [
    "idol_df = pd.DataFrame(columns=['agency', 'age', 'name', 'comment'])\n",
    "url = \"https://www.produce101event.com/entry_info.php\"\n",
    "\n",
    "for id in range(101):\n",
    "    \n",
    "    idol_dict = fetch_idol(id+1)\n",
    "    \n",
    "    age = idol_dict.get('age')\n",
    "    name = idol_dict.get('name')\n",
    "    agency = idol_dict.get('agency')\n",
    "    comment = idol_dict.get('comment').replace(\"\\r\\n\",\"\")\n",
    "    \n",
    "    idol_df.loc[len(idol_df)] = [age, name, agency, comment]"
   ]
  },
  {
   "cell_type": "code",
   "execution_count": 5,
   "metadata": {
    "collapsed": false
   },
   "outputs": [],
   "source": [
    "idol_df.tail()\n",
    "idol_df.to_csv(\"produce101_hidden_profile.csv\", encoding=\"utf-8\")"
   ]
  }
 ],
 "metadata": {
  "kernelspec": {
   "display_name": "Python 3",
   "language": "python",
   "name": "python3"
  },
  "language_info": {
   "codemirror_mode": {
    "name": "ipython",
    "version": 3
   },
   "file_extension": ".py",
   "mimetype": "text/x-python",
   "name": "python",
   "nbconvert_exporter": "python",
   "pygments_lexer": "ipython3",
   "version": "3.5.0"
  }
 },
 "nbformat": 4,
 "nbformat_minor": 0
}
