{
 "cells": [
  {
   "cell_type": "code",
   "execution_count": 1,
   "metadata": {
    "collapsed": true
   },
   "outputs": [],
   "source": [
    "#!/usr/bin/env/ python3\n",
    "#-*- coding: utf-8 -*-"
   ]
  },
  {
   "cell_type": "code",
   "execution_count": 2,
   "metadata": {
    "collapsed": false
   },
   "outputs": [],
   "source": [
    "\"\"\"Helper utilities and decorators.\"\"\"\n",
    "from __future__ import unicode_literals\n",
    "\n",
    "import requests\n",
    "import pandas as pd"
   ]
  },
  {
   "cell_type": "code",
   "execution_count": 3,
   "metadata": {
    "collapsed": true
   },
   "outputs": [],
   "source": [
    "# data를 살펴보기 위해 dataframe 전체 print 함수를 만든다.\n",
    "def print_full(x):\n",
    "    pd.set_option('display.max_rows', len(x))\n",
    "    print(x)\n",
    "    pd.reset_option('display.max_rows')"
   ]
  },
  {
   "cell_type": "code",
   "execution_count": 4,
   "metadata": {
    "collapsed": false
   },
   "outputs": [],
   "source": [
    "url = \"https://www.produce101event.com/entry_info.php\"\n",
    "\n",
    "def fetch_idol(idx):\n",
    "    \"\"\"Fetch data for a single idol.\"\"\"\n",
    "    \n",
    "    #post 와 get의 차이?\n",
    "    r = requests.post(url, data={'idx': idx})\n",
    "#     r.raise_for_status()\n",
    "    idol_data = r.json()\n",
    "    if idol_data['result'] == 'success' and idol_data['name']:\n",
    "        return idol_data\n",
    "    else:\n",
    "        return None "
   ]
  },
  {
   "cell_type": "code",
   "execution_count": 5,
   "metadata": {
    "collapsed": false
   },
   "outputs": [],
   "source": [
    "idol_df = pd.DataFrame(columns=['name', 'age', 'agency', 'comment'])\n",
    "\n",
    "for id in range(101):\n",
    "    \n",
    "    idol_dict = fetch_idol(id+1)\n",
    "    \n",
    "    name = idol_dict.get('name')\n",
    "    age = float(idol_dict.get('age'))\n",
    "    agency = idol_dict.get('agency')\n",
    "    comment = idol_dict.get('comment').replace(\"\\r\\n\",\"\")\n",
    "    \n",
    "    idol_df.loc[len(idol_df)] = [name, age, agency, comment]"
   ]
  },
  {
   "cell_type": "code",
   "execution_count": 6,
   "metadata": {
    "collapsed": false
   },
   "outputs": [
    {
     "data": {
      "text/plain": [
       "name        object\n",
       "age        float64\n",
       "agency      object\n",
       "comment     object\n",
       "dtype: object"
      ]
     },
     "execution_count": 6,
     "metadata": {},
     "output_type": "execute_result"
    }
   ],
   "source": [
    "idol_df.dtypes\n",
    "# idol_df.to_csv(\"produce101_profile.csv\", encoding=\"utf-8\")"
   ]
  },
  {
   "cell_type": "code",
   "execution_count": 7,
   "metadata": {
    "collapsed": false
   },
   "outputs": [],
   "source": [
    "from selenium import webdriver"
   ]
  },
  {
   "cell_type": "code",
   "execution_count": 8,
   "metadata": {
    "collapsed": false
   },
   "outputs": [],
   "source": [
    "driver = webdriver.Firefox()"
   ]
  },
  {
   "cell_type": "code",
   "execution_count": 9,
   "metadata": {
    "collapsed": false
   },
   "outputs": [],
   "source": [
    "URL1 = \"http://mnettv.interest.me/produce101/rank.dbp\"\n",
    "# 1차 방출평가 샘플 수\n",
    "num_vote1 = 100\n",
    "\n",
    "URL2 = \"http://mnettv.interest.me/produce101/rank2.dbp\"\n",
    "# 2차 방출평가 샘플 수\n",
    "num_vote2 = 61\n",
    "\n",
    "df_vote_1 = pd.DataFrame(columns=['name', 'vote_1'])\n",
    "df_vote_2 = pd.DataFrame(columns=['name', 'vote_2'])"
   ]
  },
  {
   "cell_type": "code",
   "execution_count": 10,
   "metadata": {
    "collapsed": false
   },
   "outputs": [],
   "source": [
    "driver.get(URL1)\n",
    "for i in range(num_vote1):\n",
    "    name = driver.find_elements_by_css_selector('p.name')\n",
    "    vote = driver.find_elements_by_css_selector('p.voteCount')\n",
    "\n",
    "    try:\n",
    "        df_vote_1.loc[len(df_vote_1)] = [name[i].text, float(vote[i].text)]\n",
    "    except:\n",
    "        df_vote_1.loc[len(df_vote_1)] = [name[i].text, 0.]"
   ]
  },
  {
   "cell_type": "code",
   "execution_count": 11,
   "metadata": {
    "collapsed": false
   },
   "outputs": [
    {
     "name": "stdout",
     "output_type": "stream",
     "text": [
      "       name    vote_1\n",
      "0       김세정  559694.0\n",
      "1       전소미  528772.0\n",
      "2       최유정  392773.0\n",
      "3       주결경  387537.0\n",
      "4       강미나  376977.0\n",
      "5       기희현  294540.0\n",
      "6       김다니  273930.0\n",
      "7       정채연  251469.0\n",
      "8       김나영  250552.0\n",
      "9       전소연  230395.0\n",
      "10      김소혜  227670.0\n",
      "11      유연정  214691.0\n",
      "12      김도연  203007.0\n",
      "13      김청하  193820.0\n",
      "14      허찬미  184926.0\n",
      "15      권은빈  179721.0\n",
      "16   응 씨 카이  176067.0\n",
      "17      정은우  175904.0\n",
      "18      김주나  161825.0\n",
      "19      박소연  156148.0\n",
      "20      윤채경  149977.0\n",
      "21      한혜리  125095.0\n",
      "22      김소희  109501.0\n",
      "23      임나영  107785.0\n",
      "24      안예슬  106322.0\n",
      "25      박시연  105963.0\n",
      "26      조시윤  102110.0\n",
      "27      강예빈   88277.0\n",
      "28      윤서형   73558.0\n",
      "29      김서경   72474.0\n",
      "30      강경원   71200.0\n",
      "31      이수현   65610.0\n",
      "32      김태하   64149.0\n",
      "33      김민지   63132.0\n",
      "34      김시현   60090.0\n",
      "35      황인선   59736.0\n",
      "36      김형은   59191.0\n",
      "37      이윤서   56821.0\n",
      "38      강시원   56224.0\n",
      "39      이해인   52494.0\n",
      "40      오서정   51381.0\n",
      "41      김민경   50652.0\n",
      "42      박해영   47662.0\n",
      "43      정해림   43960.0\n",
      "44      이수민   43932.0\n",
      "45      박가을   41873.0\n",
      "46      이진희   41286.0\n",
      "47  아리요시 리사   41244.0\n",
      "48      박세희   41203.0\n",
      "49      추예진   41048.0\n",
      "50      김민정   39033.0\n",
      "51      김연경   38506.0\n",
      "52      임정민   36760.0\n",
      "53      박하이   34459.0\n",
      "54      성혜민   33641.0\n",
      "55      황수연   30858.0\n",
      "56      유수아   30609.0\n",
      "57      심채은   30347.0\n",
      "58      강시라   29703.0\n",
      "59      강시현   29124.0\n",
      "60      황아영   28223.0\n",
      "61      김다정   28000.0\n",
      "62      안유미   27793.0\n",
      "63      김시현   27656.0\n",
      "64      서혜린   27333.0\n",
      "65      황리유   27042.0\n",
      "66      황세영   26981.0\n",
      "67      김지성   26566.0\n",
      "68      김수현   26139.0\n",
      "69      최은빈   25659.0\n",
      "70      박민지   24772.0\n",
      "71      함예지   24485.0\n",
      "72      김미소   24114.0\n",
      "73      김우정   23795.0\n",
      "74       허샘   23722.0\n",
      "75      한지연   23566.0\n",
      "76   니와 시오리   23045.0\n",
      "77      편강윤   21908.0\n",
      "78      이수현   21762.0\n",
      "79      김홍은   21598.0\n",
      "80      김도희   21485.0\n",
      "81      김설아   21394.0\n",
      "82     오한아름   21245.0\n",
      "83      김윤지   21206.0\n",
      "84      이서정   21018.0\n",
      "85      김자연   20932.0\n",
      "86      이채린   20868.0\n",
      "87      최유빈   20829.0\n",
      "88    캐서린 리   20807.0\n",
      "89      신혜현   20752.0\n",
      "90      남수진   20189.0\n",
      "91      김솔이   19899.0\n",
      "92      이세흔   18731.0\n",
      "93      방준희   18579.0\n",
      "94      윤유담   18206.0\n",
      "95      김보선   18034.0\n",
      "96      문현주   16736.0\n",
      "97      김하윤       0.0\n",
      "98      마은진       0.0\n",
      "99      임경하       0.0\n"
     ]
    }
   ],
   "source": [
    "print_full(df_vote_1)"
   ]
  },
  {
   "cell_type": "code",
   "execution_count": 12,
   "metadata": {
    "collapsed": false
   },
   "outputs": [],
   "source": [
    "driver.get(URL2)\n",
    "for i in range(num_vote2):\n",
    "\n",
    "    name = driver.find_elements_by_css_selector('p.name')\n",
    "    vote = driver.find_elements_by_css_selector('p.voteCount')\n",
    "    try:\n",
    "        df_vote_2.loc[len(df_vote_2)] = [name[i].text, float(vote[i].text)]\n",
    "    except:\n",
    "        df_vote_2.loc[len(df_vote_2)] = [name[i].text, 0.]"
   ]
  },
  {
   "cell_type": "code",
   "execution_count": 13,
   "metadata": {
    "collapsed": false
   },
   "outputs": [
    {
     "name": "stdout",
     "output_type": "stream",
     "text": [
      "       name     vote_2\n",
      "0       김세정  1473685.0\n",
      "1       최유정  1286447.0\n",
      "2       강미나  1212720.0\n",
      "3       전소미  1201490.0\n",
      "4       김나영   931084.0\n",
      "5       주결경   885556.0\n",
      "6       김도연   841749.0\n",
      "7       김소혜   833101.0\n",
      "8       정채연   696808.0\n",
      "9       유연정   684660.0\n",
      "10      임나영   665898.0\n",
      "11      기희현   481070.0\n",
      "12      김청하   462668.0\n",
      "13      이해인   461050.0\n",
      "14      윤채경   460700.0\n",
      "15      한혜리   450768.0\n",
      "16      정은우   438879.0\n",
      "17      김다니   419427.0\n",
      "18      전소연   372952.0\n",
      "19      박시연   372295.0\n",
      "20      김주나   371978.0\n",
      "21      김소희   363818.0\n",
      "22      김형은   332712.0\n",
      "23      성혜민   329366.0\n",
      "24      권은빈   310972.0\n",
      "25      안예슬   301814.0\n",
      "26      김서경   300125.0\n",
      "27   응 씨 카이   298495.0\n",
      "28      강시라   290109.0\n",
      "29      박소연   289217.0\n",
      "30      황인선   256387.0\n",
      "31      강예빈   250556.0\n",
      "32      허찬미   249026.0\n",
      "33      이수민   243513.0\n",
      "34      이수현   228806.0\n",
      "35      강시원   206504.0\n",
      "36      윤서형   187021.0\n",
      "37      박해영   172797.0\n",
      "38      황수연   158248.0\n",
      "39      김시현   150271.0\n",
      "40      조시윤   146681.0\n",
      "41      김민경   141623.0\n",
      "42      박세희   133442.0\n",
      "43      김민지   133093.0\n",
      "44      김민정   127877.0\n",
      "45      추예진   126296.0\n",
      "46      정해림   119148.0\n",
      "47      강경원   118171.0\n",
      "48      오서정   117986.0\n",
      "49      김태하   117208.0\n",
      "50      박하이   106057.0\n",
      "51      박가을   103784.0\n",
      "52      유수아   100141.0\n",
      "53      이진희    99712.0\n",
      "54  아리요시 리사    95712.0\n",
      "55      황아영    89095.0\n",
      "56      임정민    88074.0\n",
      "57      김연경    74668.0\n",
      "58      이윤서    73702.0\n",
      "59      심채은    72460.0\n",
      "60      강시현    65368.0\n"
     ]
    }
   ],
   "source": [
    "print_full(df_vote_2)"
   ]
  },
  {
   "cell_type": "code",
   "execution_count": 14,
   "metadata": {
    "collapsed": false
   },
   "outputs": [],
   "source": [
    "driver.quit()"
   ]
  },
  {
   "cell_type": "code",
   "execution_count": 15,
   "metadata": {
    "collapsed": false
   },
   "outputs": [
    {
     "data": {
      "text/html": [
       "<div>\n",
       "<table border=\"1\" class=\"dataframe\">\n",
       "  <thead>\n",
       "    <tr style=\"text-align: right;\">\n",
       "      <th></th>\n",
       "      <th>name</th>\n",
       "      <th>age</th>\n",
       "      <th>agency</th>\n",
       "      <th>comment</th>\n",
       "    </tr>\n",
       "  </thead>\n",
       "  <tbody>\n",
       "    <tr>\n",
       "      <th>96</th>\n",
       "      <td>황리유</td>\n",
       "      <td>18.0</td>\n",
       "      <td>nh emg</td>\n",
       "      <td>제2의 CL은 It’s me</td>\n",
       "    </tr>\n",
       "    <tr>\n",
       "      <th>97</th>\n",
       "      <td>황세영</td>\n",
       "      <td>22.0</td>\n",
       "      <td>LOUDers(라우더스)</td>\n",
       "      <td>고마해라 준비됐다 아이가~</td>\n",
       "    </tr>\n",
       "    <tr>\n",
       "      <th>98</th>\n",
       "      <td>황수연</td>\n",
       "      <td>24.0</td>\n",
       "      <td>Happyface(해피페이스)</td>\n",
       "      <td>무릎 주의! 해.페.실세 1위</td>\n",
       "    </tr>\n",
       "    <tr>\n",
       "      <th>99</th>\n",
       "      <td>황아영</td>\n",
       "      <td>21.0</td>\n",
       "      <td>Happyface(해피페이스)</td>\n",
       "      <td>대세녀 황정음과 연결고리</td>\n",
       "    </tr>\n",
       "    <tr>\n",
       "      <th>100</th>\n",
       "      <td>황인선</td>\n",
       "      <td>27.0</td>\n",
       "      <td>쇼웍스</td>\n",
       "      <td>S대 고학력 끼부자</td>\n",
       "    </tr>\n",
       "  </tbody>\n",
       "</table>\n",
       "</div>"
      ],
      "text/plain": [
       "    name   age            agency           comment\n",
       "96   황리유  18.0            nh emg   제2의 CL은 It’s me\n",
       "97   황세영  22.0     LOUDers(라우더스)    고마해라 준비됐다 아이가~\n",
       "98   황수연  24.0  Happyface(해피페이스)  무릎 주의! 해.페.실세 1위\n",
       "99   황아영  21.0  Happyface(해피페이스)     대세녀 황정음과 연결고리\n",
       "100  황인선  27.0              쇼웍스         S대 고학력 끼부자"
      ]
     },
     "execution_count": 15,
     "metadata": {},
     "output_type": "execute_result"
    }
   ],
   "source": [
    "idol_df.tail()"
   ]
  },
  {
   "cell_type": "markdown",
   "metadata": {},
   "source": [
    "# 주의! : 이름이 같은 사람이 있는데 머지할 때 구분할 기준이 없으므로 별도 수작업 필요\n",
    "# Caution! : Need extra process (becaue names can be identical but dataframe has NOT a identifier)"
   ]
  },
  {
   "cell_type": "code",
   "execution_count": 16,
   "metadata": {
    "collapsed": false
   },
   "outputs": [
    {
     "data": {
      "text/html": [
       "<div>\n",
       "<table border=\"1\" class=\"dataframe\">\n",
       "  <thead>\n",
       "    <tr style=\"text-align: right;\">\n",
       "      <th></th>\n",
       "      <th>name</th>\n",
       "      <th>age</th>\n",
       "      <th>agency</th>\n",
       "      <th>comment</th>\n",
       "      <th>vote_1</th>\n",
       "      <th>vote_2</th>\n",
       "    </tr>\n",
       "  </thead>\n",
       "  <tbody>\n",
       "    <tr>\n",
       "      <th>99</th>\n",
       "      <td>황리유</td>\n",
       "      <td>18.0</td>\n",
       "      <td>nh emg</td>\n",
       "      <td>제2의 CL은 It’s me</td>\n",
       "      <td>27042.0</td>\n",
       "      <td>NaN</td>\n",
       "    </tr>\n",
       "    <tr>\n",
       "      <th>100</th>\n",
       "      <td>황세영</td>\n",
       "      <td>22.0</td>\n",
       "      <td>LOUDers(라우더스)</td>\n",
       "      <td>고마해라 준비됐다 아이가~</td>\n",
       "      <td>26981.0</td>\n",
       "      <td>NaN</td>\n",
       "    </tr>\n",
       "    <tr>\n",
       "      <th>101</th>\n",
       "      <td>황수연</td>\n",
       "      <td>24.0</td>\n",
       "      <td>Happyface(해피페이스)</td>\n",
       "      <td>무릎 주의! 해.페.실세 1위</td>\n",
       "      <td>30858.0</td>\n",
       "      <td>158248.0</td>\n",
       "    </tr>\n",
       "    <tr>\n",
       "      <th>102</th>\n",
       "      <td>황아영</td>\n",
       "      <td>21.0</td>\n",
       "      <td>Happyface(해피페이스)</td>\n",
       "      <td>대세녀 황정음과 연결고리</td>\n",
       "      <td>28223.0</td>\n",
       "      <td>89095.0</td>\n",
       "    </tr>\n",
       "    <tr>\n",
       "      <th>103</th>\n",
       "      <td>황인선</td>\n",
       "      <td>27.0</td>\n",
       "      <td>쇼웍스</td>\n",
       "      <td>S대 고학력 끼부자</td>\n",
       "      <td>59736.0</td>\n",
       "      <td>256387.0</td>\n",
       "    </tr>\n",
       "  </tbody>\n",
       "</table>\n",
       "</div>"
      ],
      "text/plain": [
       "    name   age            agency           comment   vote_1    vote_2\n",
       "99   황리유  18.0            nh emg   제2의 CL은 It’s me  27042.0       NaN\n",
       "100  황세영  22.0     LOUDers(라우더스)    고마해라 준비됐다 아이가~  26981.0       NaN\n",
       "101  황수연  24.0  Happyface(해피페이스)  무릎 주의! 해.페.실세 1위  30858.0  158248.0\n",
       "102  황아영  21.0  Happyface(해피페이스)     대세녀 황정음과 연결고리  28223.0   89095.0\n",
       "103  황인선  27.0              쇼웍스         S대 고학력 끼부자  59736.0  256387.0"
      ]
     },
     "execution_count": 16,
     "metadata": {},
     "output_type": "execute_result"
    }
   ],
   "source": [
    "tmp_df = pd.merge(idol_df, df_vote_1, on='name')\n",
    "tmp2_df = pd.merge(tmp_df, df_vote_2, on='name', how='outer')\n",
    "tmp2_df.tail()"
   ]
  },
  {
   "cell_type": "code",
   "execution_count": 17,
   "metadata": {
    "collapsed": false
   },
   "outputs": [],
   "source": [
    "#print(type(tmp_df['vote'])) 값은 <class 'pandas.core.series.Series’> 로 Series 타입으로 되어있습니다.\n",
    "#따라서 ‘vote’ colunms 는  int() 로는 변환 불가\n",
    "#unicode = > str => numberic\n",
    "\n",
    "# new_list[['vote']].astype(str).convert_objects(convert_numeric=True).dtypes"
   ]
  },
  {
   "cell_type": "code",
   "execution_count": 18,
   "metadata": {
    "collapsed": false
   },
   "outputs": [],
   "source": [
    "vote_df = pd.DataFrame(tmp2_df, columns=['name', 'vote_1', 'vote_2', 'age', 'agency', 'comment'])"
   ]
  },
  {
   "cell_type": "code",
   "execution_count": 19,
   "metadata": {
    "collapsed": false
   },
   "outputs": [],
   "source": [
    "vote_df.sort_values('vote_1', ascending=0, inplace=True)"
   ]
  },
  {
   "cell_type": "code",
   "execution_count": 20,
   "metadata": {
    "collapsed": false
   },
   "outputs": [
    {
     "data": {
      "text/plain": [
       "pandas.core.series.Series"
      ]
     },
     "execution_count": 20,
     "metadata": {},
     "output_type": "execute_result"
    }
   ],
   "source": [
    "type(vote_df['vote_1'])"
   ]
  },
  {
   "cell_type": "code",
   "execution_count": 21,
   "metadata": {
    "collapsed": false
   },
   "outputs": [
    {
     "name": "stdout",
     "output_type": "stream",
     "text": [
      "        name    vote_1     vote_2   age                  agency  \\\n",
      "20       김세정  559694.0  1473685.0  20.0         Jellyfish(젤리피쉬)   \n",
      "81       전소미  528772.0  1201490.0  15.0                     JYP   \n",
      "89       최유정  392773.0  1286447.0  17.0                    판타지오   \n",
      "87       주결경  387537.0   885556.0  18.0            PLEDIS(플레디스)   \n",
      "1        강미나  376977.0  1212720.0  17.0         Jellyfish(젤리피쉬)   \n",
      "7        기희현  294540.0   481070.0  21.0                     MBK   \n",
      "9        김다니  273930.0   419427.0  17.0                     MBK   \n",
      "84       정채연  251469.0   696808.0  19.0                     MBK   \n",
      "8        김나영  250552.0   931084.0  21.0         Jellyfish(젤리피쉬)   \n",
      "82       전소연  230395.0   372952.0  18.0                CUBE(큐브)   \n",
      "21       김소혜  227670.0   833101.0  17.0           REDLINE(레드라인)   \n",
      "62       유연정  214691.0   684660.0  17.0                    스타쉽    \n",
      "11       김도연  203007.0   841749.0  17.0                    판타지오   \n",
      "35       김청하  193820.0   462668.0  20.0                     M&H   \n",
      "98       허찬미  184926.0   249026.0  24.0                    더블킥    \n",
      "6        권은빈  179721.0   310972.0  16.0                CUBE(큐브)   \n",
      "66    응 씨 카이  176067.0   298495.0  22.0                   초록뱀주나   \n",
      "83       정은우  175904.0   438879.0  18.0            PLEDIS(플레디스)   \n",
      "33       김주나  161825.0   371978.0  22.0                music K    \n",
      "47       박소연  156148.0   289217.0  17.0               LOEN (로엔)   \n",
      "65       윤채경  149977.0   460700.0  20.0                     DSP   \n",
      "95       한혜리  125095.0   450768.0  19.0       Star Empire(스타제국)   \n",
      "22       김소희  109501.0   363818.0  21.0                    뮤직웍스   \n",
      "79       임나영  107785.0   665898.0  21.0            PLEDIS(플레디스)   \n",
      "57       안예슬  106322.0   301814.0  21.0          MAJESTY(마제스티)    \n",
      "48       박시연  105963.0   372295.0  16.0            PLEDIS(플레디스)   \n",
      "86       조시윤  102110.0   146681.0  20.0                     DSP   \n",
      "5        강예빈   88277.0   250556.0  18.0            PLEDIS(플레디스)   \n",
      "63       윤서형   73558.0   187021.0  21.0          &August(&어거스트)   \n",
      "18       김서경   72474.0   300125.0  17.0                   개인연습생   \n",
      "0        강경원   71200.0   118171.0  19.0            PLEDIS(플레디스)   \n",
      "70       이수현   65610.0   228806.0  20.0                      SS   \n",
      "72       이수현   65610.0   228806.0  20.0        Happyface(해피페이스)   \n",
      "36       김태하   64149.0   117208.0  18.0                    스타쉽    \n",
      "16       김민지   63132.0   133093.0  23.0            Kconic(케이코닉)   \n",
      "27       김시현   60090.0   150271.0  17.0        Happyface(해피페이스)   \n",
      "25       김시현   60090.0   150271.0  17.0                   개인연습생   \n",
      "103      황인선   59736.0   256387.0  27.0                    쇼웍스    \n",
      "38       김형은   59191.0   332712.0  22.0            Kconic(케이코닉)   \n",
      "74       이윤서   56821.0    73702.0  14.0                CUBE(큐브)   \n",
      "3        강시원   56224.0   206504.0  20.0                   개인연습생   \n",
      "77       이해인   52494.0   461050.0  22.0                      SS   \n",
      "59       오서정   51381.0   117986.0  21.0                     M&H   \n",
      "14       김민경   50652.0   141623.0  19.0            PLEDIS(플레디스)   \n",
      "50       박해영   47662.0   172797.0  18.0                 투에이블컴퍼니   \n",
      "85       정해림   43960.0   119148.0  18.0                    판타지오   \n",
      "69       이수민   43932.0   243513.0  17.0                    판타지오   \n",
      "44       박가을   41873.0   103784.0  17.0            Astory(애스토리)   \n",
      "75       이진희   41286.0    99712.0  25.0            Kconic(케이코닉)   \n",
      "56   아리요시 리사   41244.0    95712.0  23.0                     티핑    \n",
      "46       박세희   41203.0   133442.0  23.0            Kconic(케이코닉)   \n",
      "91       추예진   41048.0   126296.0  15.0                    판타지오   \n",
      "15       김민정   39033.0   127877.0  14.0                   개인연습생   \n",
      "29       김연경   38506.0    74668.0  20.0            MIDAS(마이다스)    \n",
      "80       임정민   36760.0    88074.0  16.0  YAMA&HOTCHICKS(야마&핫칙스)   \n",
      "49       박하이   34459.0   106057.0  28.0                    케니스타   \n",
      "53       성혜민   33641.0   329366.0  27.0                   개인연습생   \n",
      "101      황수연   30858.0   158248.0  24.0        Happyface(해피페이스)   \n",
      "61       유수아   30609.0   100141.0  19.0                     MJ    \n",
      "55       심채은   30347.0    72460.0  17.0                    스타쉽    \n",
      "2        강시라   29703.0   290109.0  25.0                    청춘뮤직   \n",
      "4        강시현   29124.0    65368.0  18.0       Star Empire(스타제국)   \n",
      "102      황아영   28223.0    89095.0  21.0        Happyface(해피페이스)   \n",
      "10       김다정   28000.0        NaN  21.0                    안녕뮤직   \n",
      "58       안유미   27793.0        NaN  19.0                   블레싱     \n",
      "28       김시현   27656.0   150271.0  17.0        Happyface(해피페이스)   \n",
      "26       김시현   27656.0   150271.0  17.0                   개인연습생   \n",
      "52       서혜린   27333.0        NaN  21.0                      SS   \n",
      "99       황리유   27042.0        NaN  18.0                  nh emg   \n",
      "100      황세영   26981.0        NaN  22.0           LOUDers(라우더스)   \n",
      "34       김지성   26566.0        NaN  20.0        Happyface(해피페이스)   \n",
      "24       김수현   26139.0        NaN  16.0                     미스틱   \n",
      "90       최은빈   25659.0        NaN  23.0                     넥스타   \n",
      "45       박민지   24772.0        NaN  17.0                  매직 프레쉬   \n",
      "96       함예지   24485.0        NaN  22.0                   스타플레닛   \n",
      "13       김미소   24114.0        NaN  16.0                     MJ    \n",
      "30       김우정   23795.0        NaN  24.0        Happyface(해피페이스)   \n",
      "97        허샘   23722.0        NaN  23.0                     MJ    \n",
      "94       한지연   23566.0        NaN  21.0            MIDAS(마이다스)    \n",
      "41    니와 시오리   23045.0        NaN  22.0          MAJESTY(마제스티)    \n",
      "93       편강윤   21908.0        NaN  24.0              M2 project   \n",
      "71       이수현   21762.0   228806.0  20.0                      SS   \n",
      "73       이수현   21762.0   228806.0  20.0        Happyface(해피페이스)   \n",
      "39       김홍은   21598.0        NaN  17.0        Happyface(해피페이스)   \n",
      "12       김도희   21485.0        NaN  19.0                   블레싱     \n",
      "19       김설아   21394.0        NaN  25.0                 이큐브 미디어   \n",
      "60      오한아름   21245.0        NaN  18.0                   블레싱     \n",
      "31       김윤지   21206.0        NaN  20.0       Star Empire(스타제국)   \n",
      "67       이서정   21018.0        NaN  16.0           LOUDers(라우더스)   \n",
      "32       김자연   20932.0        NaN  25.0        Happyface(해피페이스)   \n",
      "76       이채린   20868.0        NaN  17.0            MIDAS(마이다스)    \n",
      "88       최유빈   20829.0        NaN  17.0            MIDAS(마이다스)    \n",
      "92     캐서린 리   20807.0        NaN  15.0            MIDAS(마이다스)    \n",
      "54       신혜현   20752.0        NaN  17.0            MIDAS(마이다스)    \n",
      "40       남수진   20189.0        NaN  21.0               매직 프레쉬컴퍼니   \n",
      "23       김솔이   19899.0        NaN  15.0                   블레싱     \n",
      "68       이세흔   18731.0        NaN  17.0        NEXTLEVEL(넥스트레벨)   \n",
      "51       방준희   18579.0        NaN  18.0                   블레싱     \n",
      "64       윤유담   18206.0        NaN  19.0                     FM    \n",
      "17       김보선   18034.0        NaN  22.0           LOUDers(라우더스)   \n",
      "43       문현주   16736.0        NaN  18.0                     넥스타   \n",
      "78       임경하       0.0        NaN  19.0            Astory(애스토리)   \n",
      "42       마은진       0.0        NaN  19.0                 클리어 컴퍼니   \n",
      "37       김하윤       0.0        NaN  22.0               101 DOORS   \n",
      "\n",
      "                 comment  \n",
      "20         미모+노래+춤! 재능부자  \n",
      "81          충전완료! 긍정 비타민  \n",
      "89             현웃 예능감 탑재  \n",
      "87         니하오! 대륙의 주예보스  \n",
      "1         제주 소녀! ‘미나’옵서예  \n",
      "7                프리티 랩스타  \n",
      "9          무한긍정! 해피 바이러스  \n",
      "84           반짝반짝 눈이 부셔연  \n",
      "8             흐허허~ 복세편살녀  \n",
      "82            Oh 랩생랩사 Oh  \n",
      "21             4차원 쓰.줍.녀  \n",
      "62              성대에 로열젤리  \n",
      "11           강원도에서 왔도연~   \n",
      "35     섹시 반전! JYP가 놓친 인재  \n",
      "98             돌아온 별빛 찬미  \n",
      "6        내가 바로 HOT ISSUE  \n",
      "66           워쓰 미간 여신 쉬먀  \n",
      "83      Mnet 전문 서바이벌 마스터  \n",
      "33     Music is my life!  \n",
      "47        내가 바로 로엔의 K팝스타  \n",
      "65            칠전팔기 베이비카라  \n",
      "95           삼촌 팬들! 무장해제  \n",
      "22             입덕환영 탈덕금지  \n",
      "79           한여름 밤의 꿀나영   \n",
      "57        보여줄게 완전히 달라진 나  \n",
      "48           플레디스 막내 온 탑  \n",
      "86           DSP의 순수 밀크녀  \n",
      "5    강 to the 예 to the 빈  \n",
      "63              백설백설 엘프녀  \n",
      "18            똘망똘망 치킨덕후   \n",
      "0               빛나는 페이스펙  \n",
      "70            바른 생활 순두부녀  \n",
      "72          오구오구! 댄싱 귀요미  \n",
      "36        태어나보니 오빠가 시아준수  \n",
      "16        눈웃음 일발 장전! 훗훗훗  \n",
      "27               춤추는 스누피  \n",
      "25              모찌 뇌.순.녀  \n",
      "103           S대 고학력 끼부자  \n",
      "38            이 구역의 센 언니  \n",
      "74         최연소! 만 13짤이에요  \n",
      "3         속 ‘시원’하게 입덕요망!  \n",
      "77             스르륵~ 나왔다능  \n",
      "59             슈퍼스타K4 설리  \n",
      "14         빵야! 까탈레나 남심저격  \n",
      "50               춤부심 끝판왕  \n",
      "85            상큼 발랄 태권소녀  \n",
      "69           얌전녀의 반전 보이스  \n",
      "44        걸그룹을 사랑한 발레 소녀  \n",
      "75       탈덕아 잠시 동안 멈춰줄래♬  \n",
      "56          자체발광 역대급 비주얼  \n",
      "46          걸크러쉬! P군 여동생  \n",
      "91          CHU~♥ 예진 꿈꿔또  \n",
      "15   Born to be a Dancer  \n",
      "29         낄.끼.빠.빠! 센 언니  \n",
      "80             댄스 DNA 탑재  \n",
      "49        조연 배우 아닌 주연으로!  \n",
      "53         심쿵유발 HOT BODY  \n",
      "101     무릎 주의! 해.페.실세 1위  \n",
      "61       Shake it! 댄스 타임  \n",
      "55              멍뭉미 심트리버  \n",
      "2              지금은~ 시라시대  \n",
      "4              꼬미 꼬미 쪼꼬미  \n",
      "102        대세녀 황정음과 연결고리  \n",
      "10            네 마음속 빼박캔트  \n",
      "58       머리부터 발끝까지 발랄유미C  \n",
      "28               춤추는 스누피  \n",
      "26              모찌 뇌.순.녀  \n",
      "52            읏 차거! 얼음공주  \n",
      "99       제2의 CL은 It’s me  \n",
      "100       고마해라 준비됐다 아이가~  \n",
      "34      싱크로율 99%! 리틀 한가인  \n",
      "24        윤종신 사단의 1호 걸그룹  \n",
      "90             어차피 우승은?!  \n",
      "45         진정한 뇌섹녀는 바로 나  \n",
      "96             털털한 B형 여자  \n",
      "13            부끄부끄 부끄러웡♥  \n",
      "30            백업은 이제 그만!  \n",
      "97               보이스 포텐녀  \n",
      "94           센터 is mine!  \n",
      "41              大すきK-POP  \n",
      "93             해맑은 B형 여자  \n",
      "71            바른 생활 순두부녀  \n",
      "73          오구오구! 댄싱 귀요미  \n",
      "39        우월 유전자 제2의 정자매  \n",
      "12       내 나이 열아홉! 믿어주세요  \n",
      "19            슈퍼스타K6 엘사녀  \n",
      "60           사랑을 한아름 주세요  \n",
      "31             스타제국 군기반장  \n",
      "67          따거! 댄스계의 황비홍  \n",
      "32             시선 강탈 볼매녀  \n",
      "76            여덕 몰러 나간다!  \n",
      "88              엄빠미소 유발자  \n",
      "92             마성의 중국 소녀  \n",
      "54              덕통사고 조심!  \n",
      "40            러블리 눈웃음 장착  \n",
      "23              자이언트 베이비  \n",
      "68             춤추는 츤데레녀   \n",
      "51          준희에게 투표해 주니?  \n",
      "64      포스트 현아는 내가 내가 해!  \n",
      "17             노력파 독종 언니  \n",
      "43                모태 9등신  \n",
      "78          태연 언니처럼 될 거야  \n",
      "42            좌절 금지 사생결단  \n",
      "37            버블시스터즈의 그녀  \n"
     ]
    }
   ],
   "source": [
    "print_full(vote_df)"
   ]
  },
  {
   "cell_type": "code",
   "execution_count": 22,
   "metadata": {
    "collapsed": true
   },
   "outputs": [],
   "source": [
    "vote_df.to_csv(\"produce101_vote.csv\", encoding='utf-8', index=False)"
   ]
  }
 ],
 "metadata": {
  "kernelspec": {
   "display_name": "Python 3",
   "language": "python",
   "name": "python3"
  },
  "language_info": {
   "codemirror_mode": {
    "name": "ipython",
    "version": 3
   },
   "file_extension": ".py",
   "mimetype": "text/x-python",
   "name": "python",
   "nbconvert_exporter": "python",
   "pygments_lexer": "ipython3",
   "version": "3.5.0"
  }
 },
 "nbformat": 4,
 "nbformat_minor": 0
}
